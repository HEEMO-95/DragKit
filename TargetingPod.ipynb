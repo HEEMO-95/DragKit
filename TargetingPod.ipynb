{
 "cells": [
  {
   "attachments": {},
   "cell_type": "markdown",
   "metadata": {},
   "source": [
    "Here is how to calculate 2 axis gimble angles to point a targeting pod towards a target."
   ]
  },
  {
   "attachments": {},
   "cell_type": "markdown",
   "metadata": {},
   "source": [
    "The inputs are the geo-coordinates and the elevation (MSL) of both aircraft and target"
   ]
  },
  {
   "cell_type": "code",
   "execution_count": 164,
   "metadata": {},
   "outputs": [],
   "source": [
    "import numpy as np\n",
    "lat1, lon1, elev1 = -35.3632621, 149.1652374, 584+10  # (dynamic)\n",
    "lat2, lon2, elev2 = -35.35643454149282, 149.16611533539404, 584"
   ]
  },
  {
   "attachments": {},
   "cell_type": "markdown",
   "metadata": {},
   "source": [
    "Using Haversine fourmula to calcuate target distance, and caluate the bearing to form a 3d vector"
   ]
  },
  {
   "cell_type": "code",
   "execution_count": 165,
   "metadata": {},
   "outputs": [],
   "source": [
    "# Convert the GPS coordinates from degrees to radians\n",
    "lat1_rad, lon1_rad = np.deg2rad(lat1), np.deg2rad(lon1)\n",
    "lat2_rad, lon2_rad = np.deg2rad(lat2), np.deg2rad(lon2)\n",
    "\n",
    "\n",
    "R = 6371 # Earth radius in kilometers\n",
    "dlat = lat2_rad - lat1_rad\n",
    "dlon = lon2_rad - lon1_rad\n",
    "\n",
    "# Calculate the Haversine distance between the two points\n",
    "a = np.sin(dlat/2)**2 + np.cos(lat1_rad) * np.cos(lat2_rad) * np.sin(dlon/2)**2\n",
    "c = 2 * np.arctan2(np.sqrt(a), np.sqrt(1-a))\n",
    "distance = R * c\n",
    "\n",
    "# Calculate the bearing\n",
    "bearing = np.arctan2(np.sin(dlon) * np.cos(lat2_rad),\n",
    "                    np.cos(lat1_rad) * np.sin(lat2_rad) -\n",
    "                    np.sin(lat1_rad) * np.cos(lat2_rad) * np.cos(dlon))\n",
    "\n",
    "# Calculate the x, y and z distances between the two points\n",
    "x_distance = 1000 * distance * np.cos(bearing)\n",
    "y_distance = 1000 * distance * np.sin(bearing)\n",
    "z_distance = elev1 - elev2"
   ]
  },
  {
   "attachments": {},
   "cell_type": "markdown",
   "metadata": {},
   "source": [
    "Converting the targeting vector from earth (NED) reference frame, to aircraft (Body) reference frame"
   ]
  },
  {
   "cell_type": "code",
   "execution_count": 166,
   "metadata": {},
   "outputs": [],
   "source": [
    "v_ned = np.array([x_distance, y_distance, z_distance]) \n",
    "\n",
    "# Define the rotation matrix that describes the orientation of the body (dynamic)\n",
    "phi = np.deg2rad(0) # Rotation around x-axis in radians\n",
    "theta = np.deg2rad(0) # Rotation around y-axis in radians\n",
    "psi = np.deg2rad(np.degrees(bearing)) # Rotation around z-axis in radians\n",
    "\n",
    "R_bn = np.array([\n",
    "[np.cos(theta)*np.cos(psi), np.cos(theta)*np.sin(psi), -np.sin(theta)],\n",
    "[np.sin(phi)*np.sin(theta)*np.cos(psi)-np.cos(phi)*np.sin(psi), np.sin(phi)*np.sin(theta)*np.sin(psi)+np.cos(phi)*np.cos(psi), np.sin(phi)*np.cos(theta)],\n",
    "[np.cos(phi)*np.sin(theta)*np.cos(psi)+np.sin(phi)*np.sin(psi), np.cos(phi)*np.sin(theta)*np.sin(psi)-np.sin(phi)*np.cos(psi), np.cos(phi)*np.cos(theta)]\n",
    "])\n",
    "# Transform the vector v from the NED frame to the body frame\n",
    "v_body = np.matmul(R_bn, v_ned)"
   ]
  },
  {
   "attachments": {},
   "cell_type": "markdown",
   "metadata": {},
   "source": [
    "Calculate the 2 axis gimble angles from the converted vector"
   ]
  },
  {
   "cell_type": "code",
   "execution_count": 167,
   "metadata": {},
   "outputs": [
    {
     "name": "stdout",
     "output_type": "stream",
     "text": [
      "Azimuth:  -0.0\n",
      "Polar:  0.75\n"
     ]
    }
   ],
   "source": [
    "# Define the vector v\n",
    "v = v_body # 3 x 1 matrix\n",
    "\n",
    "# Compute the direction angles with respect to each axis\n",
    "Azimuth = np.arctan2(v[1], v[0]) # Azimuth angle\n",
    "Polar = np.arctan2(v[2], np.sqrt(v[0]**2 + v[1]**2)) # Polar angle\n",
    "\n",
    "# Convert the angles to degrees\n",
    "Azimuth = np.rad2deg(Azimuth)\n",
    "Polar = np.rad2deg(Polar)\n",
    "\n",
    "print(f'Azimuth:  {np.round(Azimuth,2)}')\n",
    "print(f'Polar:  {np.round(Polar,2)}')"
   ]
  },
  {
   "attachments": {},
   "cell_type": "markdown",
   "metadata": {},
   "source": [
    "Negative Polar angles for pointing upward\n",
    "\n",
    "Positive Azimuth angles for pointing to the right\n",
    "\n",
    "0 Azimuth angles for pointing forward"
   ]
  }
 ],
 "metadata": {
  "kernelspec": {
   "display_name": "Python 3",
   "language": "python",
   "name": "python3"
  },
  "language_info": {
   "codemirror_mode": {
    "name": "ipython",
    "version": 3
   },
   "file_extension": ".py",
   "mimetype": "text/x-python",
   "name": "python",
   "nbconvert_exporter": "python",
   "pygments_lexer": "ipython3",
   "version": "3.11.2"
  },
  "orig_nbformat": 4
 },
 "nbformat": 4,
 "nbformat_minor": 2
}
