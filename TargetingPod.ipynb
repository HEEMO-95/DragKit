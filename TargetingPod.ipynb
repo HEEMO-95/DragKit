{
 "cells": [
  {
   "attachments": {},
   "cell_type": "markdown",
   "metadata": {},
   "source": [
    "# Lock\\Slave"
   ]
  },
  {
   "attachments": {},
   "cell_type": "markdown",
   "metadata": {},
   "source": [
    "Calculate 2 axis gimble angles to point a targeting pod towards a target.\n",
    "The inputs are the geo-coordinates and the elevation (MSL) of both aircraft and target."
   ]
  },
  {
   "cell_type": "code",
   "execution_count": 12,
   "metadata": {},
   "outputs": [],
   "source": [
    "import numpy as np\n",
    "#from pymavlink import mavutil\n",
    "lat1, lon1, elev1 = -35.3632621, 149.1652374, 584+10  # (From MAVLINK)\n",
    "lat2, lon2, elev2 = -35.3564345, 149.1661153, 584     # can be an input or from designation"
   ]
  },
  {
   "attachments": {},
   "cell_type": "markdown",
   "metadata": {},
   "source": [
    "Using Haversine formula to calculate target distance, then calculate the bearing to form a 3d vector."
   ]
  },
  {
   "cell_type": "code",
   "execution_count": 13,
   "metadata": {},
   "outputs": [],
   "source": [
    "# Convert the GPS coordinates from degrees to radians\n",
    "lat1_rad, lon1_rad = np.deg2rad(lat1), np.deg2rad(lon1)\n",
    "lat2_rad, lon2_rad = np.deg2rad(lat2), np.deg2rad(lon2)\n",
    "\n",
    "\n",
    "R = 6371000 # Earth radius in meters\n",
    "dlat = lat2_rad - lat1_rad\n",
    "dlon = lon2_rad - lon1_rad\n",
    "\n",
    "# Calculate the distance between the two points with Haversine fourmula\n",
    "a = np.sin(dlat/2)**2 + np.cos(lat1_rad) * np.cos(lat2_rad) * np.sin(dlon/2)**2\n",
    "c = 2 * np.arctan2(np.sqrt(a), np.sqrt(1-a))\n",
    "distance = R * c\n",
    "\n",
    "# Calculate the bearing\n",
    "bearing = np.arctan2(np.sin(dlon) * np.cos(lat2_rad),\n",
    "                    np.cos(lat1_rad) * np.sin(lat2_rad) -\n",
    "                    np.sin(lat1_rad) * np.cos(lat2_rad) * np.cos(dlon))\n",
    "\n",
    "# Calculate the x, y and z distances between the two points\n",
    "x_distance = distance * np.cos(bearing)\n",
    "y_distance = distance * np.sin(bearing)\n",
    "z_distance = elev1 - elev2"
   ]
  },
  {
   "attachments": {},
   "cell_type": "markdown",
   "metadata": {},
   "source": [
    "Converting the targeting vector from earth (NED) reference frame to aircraft (Body) reference frame"
   ]
  },
  {
   "cell_type": "code",
   "execution_count": 14,
   "metadata": {},
   "outputs": [],
   "source": [
    "v_ned = np.array([x_distance, y_distance, z_distance]) \n",
    "\n",
    "# Define the rotation matrix that describes the orientation of the body (From MAVLINK)\n",
    "phi = np.deg2rad(15) # Rotation around x-axis in radians \n",
    "theta = np.deg2rad(20) # Rotation around y-axis in radians\n",
    "psi = np.deg2rad(30) # Rotation around z-axis in radians\n",
    "\n",
    "R_bn = np.array([\n",
    "[np.cos(theta)*np.cos(psi), np.cos(theta)*np.sin(psi), -np.sin(theta)],\n",
    "[np.sin(phi)*np.sin(theta)*np.cos(psi)-np.cos(phi)*np.sin(psi), np.sin(phi)*np.sin(theta)*np.sin(psi)+np.cos(phi)*np.cos(psi), np.sin(phi)*np.cos(theta)],\n",
    "[np.cos(phi)*np.sin(theta)*np.cos(psi)+np.sin(phi)*np.sin(psi), np.cos(phi)*np.sin(theta)*np.sin(psi)-np.sin(phi)*np.cos(psi), np.cos(phi)*np.cos(theta)]\n",
    "])\n",
    "# Transform the vector v from the NED frame to the body frame\n",
    "v_body = np.matmul(R_bn, v_ned)"
   ]
  },
  {
   "attachments": {},
   "cell_type": "markdown",
   "metadata": {},
   "source": [
    "Get azimuth angle φ and polar angle θ of the vector in which the gimble will adjust its motors in order to point at the target location."
   ]
  },
  {
   "cell_type": "code",
   "execution_count": 15,
   "metadata": {},
   "outputs": [
    {
     "name": "stdout",
     "output_type": "stream",
     "text": [
      "Azimuth:  -19.896327814936402\n",
      "Polar:  24.76857968151537\n",
      "distance: 763.357\n",
      "bearing: 5.987\n",
      "[ 651.81663006 -235.90707681  319.83912761]\n"
     ]
    }
   ],
   "source": [
    "# Define the vector v\n",
    "v = v_body # 3 x 1 matrix\n",
    "\n",
    "# Compute the direction angles with respect to each axis\n",
    "Azimuth = np.arctan2(v[1], v[0]) # Azimuth angle\n",
    "Polar = np.arctan2(v[2], np.sqrt(v[0]**2 + v[1]**2)) # Polar angle\n",
    "\n",
    "# Convert the angles to degrees\n",
    "\n",
    "print(f'Azimuth:  {np.rad2deg(Azimuth)}')\n",
    "print(f'Polar:  {np.rad2deg(Polar)}')\n",
    "print(f'distance: {np.round(distance,3)}')\n",
    "print(f'bearing: {np.round(np.rad2deg(bearing),3)}')\n",
    "print(v_body)"
   ]
  },
  {
   "attachments": {},
   "cell_type": "markdown",
   "metadata": {},
   "source": [
    "Negative Polar angles for pointing upward.\n",
    "\n",
    "Positive Azimuth angles for pointing to the right.\n",
    "\n",
    "0 Azimuth angles for pointing forward."
   ]
  },
  {
   "attachments": {},
   "cell_type": "markdown",
   "metadata": {},
   "source": [
    "# Designation"
   ]
  },
  {
   "attachments": {},
   "cell_type": "markdown",
   "metadata": {},
   "source": [
    "Designate a target area and calcuate bearing and distance, coordinates can be fingure out from bearing and distance again using Haversine fourmula"
   ]
  },
  {
   "cell_type": "code",
   "execution_count": 16,
   "metadata": {},
   "outputs": [],
   "source": [
    "def calculate_coordinates(lat1, lon1, distance, bearing):\n",
    "    # Convert input values from degrees to radians\n",
    "    lat1_rad = np.deg2rad(lat1)\n",
    "    lon1_rad = np.deg2rad(lon1)\n",
    "    bearing_rad = (bearing)\n",
    "\n",
    "    # Earth radius in kilometers\n",
    "    radius = 6371000\n",
    "\n",
    "    # Calculate the angular distance in radians\n",
    "    angular_distance = distance / radius\n",
    "\n",
    "    # Calculate the latitude of the destination point using the haversine formula\n",
    "    lat2_rad = np.arcsin(np.sin(lat1_rad) * np.cos(angular_distance) +\n",
    "                         np.cos(lat1_rad) * np.sin(angular_distance) * np.cos(bearing_rad))\n",
    "\n",
    "    # Calculate the longitude of the destination point using the haversine formula\n",
    "    lon2_rad = lon1_rad + np.arctan2(np.sin(bearing_rad) * np.sin(angular_distance) * np.cos(lat1_rad),\n",
    "                                      np.cos(angular_distance) - np.sin(lat1_rad) * np.sin(lat2_rad))\n",
    "\n",
    "    # Convert the latitude and longitude from radians to degrees\n",
    "    lat2 = np.degrees(lat2_rad)\n",
    "    lon2 = np.degrees(lon2_rad)\n",
    "\n",
    "    return lat2, lon2"
   ]
  },
  {
   "attachments": {},
   "cell_type": "markdown",
   "metadata": {},
   "source": [
    "Azimuth and elevation are the tilt and pan of the of targeting pod gimbal, using same tilt and pan from the lock/slave to varify the coordinates"
   ]
  },
  {
   "cell_type": "code",
   "execution_count": 17,
   "metadata": {},
   "outputs": [
    {
     "name": "stdout",
     "output_type": "stream",
     "text": [
      "Unit vector:  [ 0.85380835 -0.30901242  0.41895421]\n"
     ]
    }
   ],
   "source": [
    "# Define the azimuth and elevation angles\n",
    "azimuth = (Azimuth)   # Example azimuth angle in radians\n",
    "elevation = (Polar)   # Example elevation angle in radians\n",
    "\n",
    "# Calculate the components of the unit vector\n",
    "x = np.cos(azimuth) * np.cos(elevation)\n",
    "y = np.sin(azimuth) * np.cos(elevation)\n",
    "z = np.sin(elevation)\n",
    "\n",
    "# Create the unit vector\n",
    "unit_vector = np.array([x, y, z])\n",
    "\n",
    "# Print the unit vector\n",
    "print(\"Unit vector: \", unit_vector)"
   ]
  },
  {
   "attachments": {},
   "cell_type": "markdown",
   "metadata": {},
   "source": [
    "By using the lidar or laser to calulate the distance between aircraft and target."
   ]
  },
  {
   "cell_type": "code",
   "execution_count": 18,
   "metadata": {},
   "outputs": [
    {
     "name": "stdout",
     "output_type": "stream",
     "text": [
      "Scaled vector v':  [ 651.81663006 -235.90707681  319.83912761]\n",
      "vector in earth frame: [759.19412817  79.61414076  10.        ]\n"
     ]
    }
   ],
   "source": [
    "# Define the magnitude of the vector\n",
    "magnitude = np.sqrt(x_distance**2 + y_distance**2 + z_distance**2)\n",
    "\n",
    "# Multiply the magnitude by the unit vector\n",
    "v_scaled = magnitude * unit_vector\n",
    "\n",
    "# Print the scaled vector\n",
    "print(\"Scaled vector v': \", v_scaled)\n",
    "\n",
    "# Transform the vector v from the body frame to the NED frame\n",
    "v_ned = np.matmul(R_bn.T, v_scaled)\n",
    "elev2 = elev1 - v_ned[2]\n",
    "\n",
    "print(f'vector in earth frame: {v_ned}')"
   ]
  },
  {
   "cell_type": "code",
   "execution_count": 19,
   "metadata": {},
   "outputs": [
    {
     "name": "stdout",
     "output_type": "stream",
     "text": [
      "elevation:  0.75053\n",
      "bearing:  5.98654\n",
      "distance:  763.3571481702102\n"
     ]
    }
   ],
   "source": [
    "n_bearing = np.arctan2(v_ned[1], v_ned[0]) # Azimuth angle\n",
    "elevation = np.arctan2(v_ned[2], np.sqrt(v_ned[0]**2 + v_ned[1]**2)) # Polar angle\n",
    "n_distance = magnitude * np.cos(elevation)\n",
    "\n",
    "print(f'elevation:  {np.round(np.rad2deg(elevation),5)}')\n",
    "print(f'bearing:  {np.round(np.rad2deg(n_bearing),5)}')\n",
    "print(f'distance:  {n_distance}')"
   ]
  },
  {
   "cell_type": "code",
   "execution_count": 20,
   "metadata": {},
   "outputs": [
    {
     "name": "stdout",
     "output_type": "stream",
     "text": [
      "(-35.3564345, 149.1661153)\n",
      "584.0\n"
     ]
    }
   ],
   "source": [
    "print(calculate_coordinates(lat1,lon1,n_distance,n_bearing))\n",
    "print(elev2)"
   ]
  },
  {
   "attachments": {},
   "cell_type": "markdown",
   "metadata": {},
   "source": [
    "# -35.3564345, 149.1661153, 584\n",
    "Ended up with the same coordinates by using gimbal angles (tilt, pan)"
   ]
  },
  {
   "attachments": {},
   "cell_type": "markdown",
   "metadata": {},
   "source": [
    "Transfrom the coordinates format from decimal to DMS:"
   ]
  },
  {
   "cell_type": "code",
   "execution_count": 53,
   "metadata": {},
   "outputs": [],
   "source": [
    "def decimal_degrees_to_dms(Decimal,lat:bool = False, lon:bool = False):\n",
    "    \n",
    "    d = int(Decimal)\n",
    "    m = int((Decimal - d) * 60)\n",
    "    s = round((Decimal - d - m/60) * 3600.00,2)\n",
    "\n",
    "    if lat == True:\n",
    "        if d < 0:\n",
    "            H = 'S'\n",
    "        else:\n",
    "            H = 'N'\n",
    "\n",
    "    if lon == True:\n",
    "        if d < 0:\n",
    "            H = 'W'\n",
    "        else:\n",
    "            H = 'E'\n",
    "    \n",
    "    return (f\"{abs(d)}°{abs(m)}'{abs(s)}\"'\"'f\"{H}\")"
   ]
  },
  {
   "cell_type": "code",
   "execution_count": 54,
   "metadata": {},
   "outputs": [
    {
     "name": "stdout",
     "output_type": "stream",
     "text": [
      "35°21'47.74\"S 149°9'54.85\"E\n"
     ]
    }
   ],
   "source": [
    "lat_DMS = decimal_degrees_to_dms(lat1, lat=True)\n",
    "lon_DMS = decimal_degrees_to_dms(lon1, lon=True)\n",
    "print(lat_DMS,lon_DMS)"
   ]
  }
 ],
 "metadata": {
  "kernelspec": {
   "display_name": "Python 3",
   "language": "python",
   "name": "python3"
  },
  "language_info": {
   "codemirror_mode": {
    "name": "ipython",
    "version": 3
   },
   "file_extension": ".py",
   "mimetype": "text/x-python",
   "name": "python",
   "nbconvert_exporter": "python",
   "pygments_lexer": "ipython3",
   "version": "3.11.2"
  },
  "orig_nbformat": 4
 },
 "nbformat": 4,
 "nbformat_minor": 2
}
