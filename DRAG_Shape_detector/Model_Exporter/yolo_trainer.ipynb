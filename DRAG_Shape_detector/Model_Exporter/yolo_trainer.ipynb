{
  "cells": [
    {
      "cell_type": "code",
      "execution_count": null,
      "metadata": {
        "id": "CBeBbE3hR2Vx"
      },
      "outputs": [],
      "source": [
        "import os\n",
        "current_directory = os.getcwd()\n",
        "# Get the parent directory\n",
        "home = os.path.dirname(current_directory)\n",
        "print(home)"
      ]
    },
    {
      "cell_type": "code",
      "execution_count": null,
      "metadata": {
        "colab": {
          "base_uri": "https://localhost:8080/"
        },
        "id": "etyU2FMTM26L",
        "outputId": "f428a25d-5204-488c-c5b3-bc7ac6d0280d"
      },
      "outputs": [],
      "source": [
        "%cd {home}\n",
        "!python --version"
      ]
    },
    {
      "cell_type": "code",
      "execution_count": null,
      "metadata": {
        "colab": {
          "base_uri": "https://localhost:8080/"
        },
        "id": "voGGb2yUQ7ew",
        "outputId": "ad2fae46-4b66-4d57-9c8c-16317262bc1c"
      },
      "outputs": [],
      "source": [
        "# install required libraries\n",
        "%cd {home}\n",
        "!pip install torch\n",
        "!pip install ultralytics\n",
        "!pip install roboflow"
      ]
    },
    {
      "cell_type": "code",
      "execution_count": null,
      "metadata": {
        "id": "tA_R4xx6Qz7W"
      },
      "outputs": [],
      "source": [
        "import torch\n",
        "from ultralytics import YOLO\n",
        "from roboflow import Roboflow"
      ]
    },
    {
      "cell_type": "code",
      "execution_count": null,
      "metadata": {
        "colab": {
          "base_uri": "https://localhost:8080/"
        },
        "id": "mvpXHFC4Qz7X",
        "outputId": "d66d85fd-07aa-497f-fbb5-73c3f3e9b5e9"
      },
      "outputs": [],
      "source": [
        "# check if using gpu acceleration\n",
        "torch.cuda.is_available()"
      ]
    },
    {
      "cell_type": "code",
      "execution_count": null,
      "metadata": {
        "colab": {
          "base_uri": "https://localhost:8080/"
        },
        "id": "KQvlPhtiIe1M",
        "outputId": "d4f5410a-d822-4ae1-fd6d-82f8f25509fc"
      },
      "outputs": [],
      "source": [
        "!nvidia-smi"
      ]
    },
    {
      "cell_type": "code",
      "execution_count": null,
      "metadata": {
        "colab": {
          "base_uri": "https://localhost:8080/"
        },
        "id": "a_rWP80XQz7Y",
        "outputId": "ebe715b6-b0ba-4dad-9b6f-61aac3c31e45"
      },
      "outputs": [],
      "source": [
        "rf = Roboflow(api_key=\"za1uS6sowvKsl58nKwFI\")\n",
        "project = rf.workspace(\"suas-degka\").project(\"odlc\")\n",
        "data_path = home+\"/odlc_dataset\"\n",
        "# dataset = project.version(4).download(model_format=\"yolov8\", location=data_path)\n"
      ]
    },
    {
      "cell_type": "code",
      "execution_count": null,
      "metadata": {
        "id": "Z5nhctG2Qz7Y"
      },
      "outputs": [],
      "source": [
        "options = {\n",
        "    'epochs': 80,\n",
        "    'batch': 32,\n",
        "    'imgsz': 1024,\n",
        "    'lr0': 0.001,\n",
        "    'momentum': 0.9,\n",
        "    'weight_decay': 0.0005,\n",
        "    'warmup_epochs': 3,\n",
        "    'verbose': True,\n",
        "    'rect': False,\n",
        "}\n"
      ]
    },
    {
      "cell_type": "code",
      "execution_count": null,
      "metadata": {
        "id": "6w6b0KSrceTT"
      },
      "outputs": [],
      "source": [
        "model = YOLO('yolov8n.pt')"
      ]
    },
    {
      "cell_type": "code",
      "execution_count": null,
      "metadata": {
        "colab": {
          "base_uri": "https://localhost:8080/"
        },
        "id": "ZvEx0px7Qz7Z",
        "outputId": "9f00de1b-b816-407f-d640-405f1c3ecca3"
      },
      "outputs": [],
      "source": [
        "model.train(data = data_path+'/data.yaml', task=\"detect\", **options)"
      ]
    },
    {
      "cell_type": "code",
      "execution_count": null,
      "metadata": {
        "colab": {
          "base_uri": "https://localhost:8080/"
        },
        "id": "U63k-2cSQz7Z",
        "outputId": "55d040a9-6a4a-49b2-8787-a587bac07910"
      },
      "outputs": [],
      "source": [
        "metrics = model.val()"
      ]
    },
    {
      "cell_type": "code",
      "execution_count": null,
      "metadata": {
        "colab": {
          "base_uri": "https://localhost:8080/",
          "height": 313
        },
        "id": "-2cXHKpmQz7Z",
        "outputId": "8d02822c-9176-4098-b247-9e454bd10c2f"
      },
      "outputs": [],
      "source": [
        "model.export(format=\"onnx\")"
      ]
    }
  ],
  "metadata": {
    "accelerator": "GPU",
    "colab": {
      "gpuType": "T4",
      "provenance": []
    },
    "kernelspec": {
      "display_name": "Python 3",
      "name": "python3"
    },
    "language_info": {
      "codemirror_mode": {
        "name": "ipython",
        "version": 3
      },
      "file_extension": ".py",
      "mimetype": "text/x-python",
      "name": "python",
      "nbconvert_exporter": "python",
      "pygments_lexer": "ipython3",
      "version": "3.9.16"
    },
    "orig_nbformat": 4
  },
  "nbformat": 4,
  "nbformat_minor": 0
}
